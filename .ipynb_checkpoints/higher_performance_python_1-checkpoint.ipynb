{
 "cells": [
  {
   "cell_type": "code",
   "execution_count": 1,
   "id": "ffa4689d",
   "metadata": {},
   "outputs": [],
   "source": [
    "import time\n",
    "from functools import wraps\n",
    "\n",
    "x1, x2, y1, y2 = -1.8, 1.8, -1.8, 1.8\n",
    "c_real, c_imag = -0.62772, -0.42193\n",
    "\n",
    "def timefn(fn):\n",
    "    @wraps(fn)\n",
    "    def measure_time(*args, **kwargs):\n",
    "        t1 = time.time()\n",
    "        result = fn(*args, **kwargs)\n",
    "        t2 = time.time()\n",
    "        print(\"@timefn:\" + fn.__name__ + \" took \" + str(t2 - t1) + \" seconds\")\n",
    "        return result\n",
    "    return measure_time\n",
    "\n",
    "#@timefn\n",
    "def calculate_z_serial_purepython(maxiter, zs, cs):\n",
    "    \"\"\"Calculate output list using Julia update rule\"\"\"\n",
    "    output = [0] * len(zs)\n",
    "    for i in range(len(zs)):\n",
    "        n = 0\n",
    "        z = zs[i]\n",
    "        c = cs[i]\n",
    "        while abs(z) < 2 and n < maxiter:\n",
    "            z = z * z + c\n",
    "            n += 1\n",
    "        output[i] = n\n",
    "    return output\n",
    "\n",
    "def calc_pure_python(desired_width, max_iterations):\n",
    "    \"\"\"Create a list of complex coordinates(zs) and complex parameters(cs), build julia set, and display\"\"\"\n",
    "    x_step = (float(x2 - x1) / float(desired_width))\n",
    "    y_step = (float(y2 - y1) / float(desired_width))\n",
    "    x = []\n",
    "    y = []\n",
    "    \n",
    "    ycoord = y1\n",
    "    while ycoord < y2:\n",
    "        y.append(ycoord)\n",
    "        ycoord += y_step\n",
    "        \n",
    "    xcoord = x1\n",
    "    while xcoord < x2:\n",
    "        x.append(xcoord)\n",
    "        xcoord += x_step\n",
    "\n",
    "    zs = []\n",
    "    cs = []\n",
    "    for ycoord in y:\n",
    "        for xcoord in x:\n",
    "            zs.append(complex(xcoord, ycoord))\n",
    "            cs.append(complex(c_real, c_imag))\n",
    "\n",
    "    print(\"length of x: \", len(x))\n",
    "    print(\"total elements: \", len(zs))\n",
    "    start_time = time.time()\n",
    "    output = calculate_z_serial_purepython(max_iterations, zs, cs)\n",
    "    end_time = time.time()\n",
    "    secs = end_time - start_time\n",
    "    print(\"calculate_z_serial_purepython\" + \" took\", secs, \" secs\")"
   ]
  },
  {
   "cell_type": "code",
   "execution_count": 3,
   "id": "6750b2ee",
   "metadata": {},
   "outputs": [
    {
     "name": "stdout",
     "output_type": "stream",
     "text": [
      "length of x:  1000\n",
      "total elements:  1000000\n",
      "@timefn:calculate_z_serial_purepython took 14.158456087112427 seconds\n",
      "calculate_z_serial_purepython took 14.158456087112427  secs\n",
      "length of x:  1000\n",
      "total elements:  1000000\n",
      "@timefn:calculate_z_serial_purepython took 13.998701095581055 seconds\n",
      "calculate_z_serial_purepython took 13.998701095581055  secs\n",
      "length of x:  1000\n",
      "total elements:  1000000\n",
      "@timefn:calculate_z_serial_purepython took 13.959384202957153 seconds\n",
      "calculate_z_serial_purepython took 13.959384202957153  secs\n",
      "length of x:  1000\n",
      "total elements:  1000000\n",
      "@timefn:calculate_z_serial_purepython took 14.118157148361206 seconds\n",
      "calculate_z_serial_purepython took 14.118157148361206  secs\n",
      "length of x:  1000\n",
      "total elements:  1000000\n",
      "@timefn:calculate_z_serial_purepython took 13.952406644821167 seconds\n",
      "calculate_z_serial_purepython took 13.952406644821167  secs\n",
      "length of x:  1000\n",
      "total elements:  1000000\n",
      "@timefn:calculate_z_serial_purepython took 14.230565547943115 seconds\n",
      "calculate_z_serial_purepython took 14.230565547943115  secs\n",
      "length of x:  1000\n",
      "total elements:  1000000\n",
      "@timefn:calculate_z_serial_purepython took 13.401921272277832 seconds\n",
      "calculate_z_serial_purepython took 13.401921272277832  secs\n",
      "length of x:  1000\n",
      "total elements:  1000000\n",
      "@timefn:calculate_z_serial_purepython took 12.291187524795532 seconds\n",
      "calculate_z_serial_purepython took 12.291187524795532  secs\n",
      "14.5 s ± 622 ms per loop (mean ± std. dev. of 7 runs, 1 loop each)\n"
     ]
    }
   ],
   "source": [
    "%timeit calc_pure_python(desired_width=1000, max_iterations=300)"
   ]
  },
  {
   "cell_type": "code",
   "execution_count": 9,
   "id": "df69a8f9",
   "metadata": {},
   "outputs": [
    {
     "name": "stdout",
     "output_type": "stream",
     "text": [
      "Compilers of Tools and Techniques Principles\n"
     ]
    }
   ],
   "source": [
    "#test function as the first class object\n",
    "def reverse_sentence(sentence):\n",
    "    splited = sentence.split()\n",
    "    splited.reverse()\n",
    "    return ' '.join(splited)\n",
    "\n",
    "print(reverse_sentence(\"Principles Techniques and Tools of Compilers\"))"
   ]
  },
  {
   "cell_type": "code",
   "execution_count": 10,
   "id": "e4c30961",
   "metadata": {},
   "outputs": [
    {
     "name": "stdout",
     "output_type": "stream",
     "text": [
      "Compilers of Tools and Techniques Principles\n"
     ]
    }
   ],
   "source": [
    "symbols_reverse = reverse_sentence\n",
    "print(symbols_reverse(\"Principles Techniques and Tools of Compilers\"))"
   ]
  },
  {
   "cell_type": "code",
   "execution_count": 11,
   "id": "8343c469",
   "metadata": {},
   "outputs": [
    {
     "name": "stdout",
     "output_type": "stream",
     "text": [
      "PRINCIPLES TECHNIQUES AND TOOLS OF COMPILERS\n"
     ]
    }
   ],
   "source": [
    "def upper_sentence(sentence):\n",
    "    return sentence.upper()\n",
    "\n",
    "print(upper_sentence(\"Principles Techniques and Tools of Compilers\"))"
   ]
  },
  {
   "cell_type": "code",
   "execution_count": 13,
   "id": "866bca83",
   "metadata": {},
   "outputs": [
    {
     "name": "stdout",
     "output_type": "stream",
     "text": [
      "COMPILERS OF TOOLS AND TECHNIQUES PRINCIPLES\n"
     ]
    }
   ],
   "source": [
    "def sentence_factory(funcs, sentence):\n",
    "    for func in funcs:\n",
    "        sentence = func(sentence)\n",
    "    return sentence\n",
    "\n",
    "print(sentence_factory([reverse_sentence, upper_sentence], \"Principles Techniques and Tools of Compilers\"))"
   ]
  },
  {
   "cell_type": "code",
   "execution_count": 14,
   "id": "2dd312de",
   "metadata": {},
   "outputs": [
    {
     "name": "stdout",
     "output_type": "stream",
     "text": [
      "5\n"
     ]
    }
   ],
   "source": [
    "#return function from a function\n",
    "def create_square_sum():\n",
    "    def square_sum(x, y):\n",
    "        return x * x + y * y\n",
    "    return square_sum\n",
    "\n",
    "square_sum = create_square_sum()\n",
    "print(square_sum(1,2))"
   ]
  },
  {
   "cell_type": "code",
   "execution_count": 15,
   "id": "d4be83ea",
   "metadata": {},
   "outputs": [
    {
     "name": "stdout",
     "output_type": "stream",
     "text": [
      "Hello, this is before function execution\n",
      "This is inside the function !!\n",
      "This is after function execution\n"
     ]
    }
   ],
   "source": [
    "# defining a decorator\n",
    "def hello_decorator(func):\n",
    "    def inner1():\n",
    "        print(\"Hello, this is before function execution\")\n",
    "        func()\n",
    "        print(\"This is after function execution\")\n",
    "    return inner1\n",
    " \n",
    "# defining a function, to be called inside wrapper\n",
    "def function_to_be_used():\n",
    "    print(\"This is inside the function !!\")\n",
    "\n",
    "function_to_be_used = hello_decorator(function_to_be_used) \n",
    "# calling the function\n",
    "function_to_be_used()"
   ]
  },
  {
   "cell_type": "code",
   "execution_count": 16,
   "id": "0ec6e0c2",
   "metadata": {},
   "outputs": [
    {
     "name": "stdout",
     "output_type": "stream",
     "text": [
      "3628800\n",
      "Total time taken in :  factorial 2.008657932281494\n"
     ]
    }
   ],
   "source": [
    "import time\n",
    "import math\n",
    " \n",
    "# decorator to calculate duration\n",
    "# taken by any function.\n",
    "def calculate_time(func):\n",
    "    def inner1(*args, **kwargs):\n",
    "        begin = time.time()\n",
    "        func(*args, **kwargs)\n",
    "        end = time.time()\n",
    "        print(\"Total time taken in : \", func.__name__, end - begin)\n",
    "    return inner1\n",
    "\n",
    "@calculate_time\n",
    "def factorial(num):\n",
    "    time.sleep(2)\n",
    "    print(math.factorial(num))\n",
    " \n",
    "# calling the function.\n",
    "factorial(10)"
   ]
  },
  {
   "cell_type": "code",
   "execution_count": null,
   "id": "5a419fa9",
   "metadata": {},
   "outputs": [],
   "source": []
  }
 ],
 "metadata": {
  "kernelspec": {
   "display_name": "Python 3",
   "language": "python",
   "name": "python3"
  },
  "language_info": {
   "codemirror_mode": {
    "name": "ipython",
    "version": 3
   },
   "file_extension": ".py",
   "mimetype": "text/x-python",
   "name": "python",
   "nbconvert_exporter": "python",
   "pygments_lexer": "ipython3",
   "version": "3.8.8"
  }
 },
 "nbformat": 4,
 "nbformat_minor": 5
}
