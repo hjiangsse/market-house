{
 "cells": [
  {
   "cell_type": "code",
   "execution_count": 2,
   "id": "eaf56f1c",
   "metadata": {},
   "outputs": [],
   "source": [
    "from clickhouse_driver import Client\n",
    "\n",
    "client = Client(host=\"192.168.222.220\")"
   ]
  },
  {
   "cell_type": "code",
   "execution_count": 4,
   "id": "4170589e",
   "metadata": {},
   "outputs": [
    {
     "name": "stdout",
     "output_type": "stream",
     "text": [
      "114 ms ± 2.29 ms per loop (mean ± std. dev. of 7 runs, 10 loops each)\n"
     ]
    }
   ],
   "source": [
    "factor_database = \"factor_database\"\n",
    "factor_table = \"factor1\"\n",
    "select_query = \"select count(*) from \" + factor_database + \".\" + factor_table\n",
    "%timeit client.execute(select_query)"
   ]
  },
  {
   "cell_type": "code",
   "execution_count": 8,
   "id": "53e81395",
   "metadata": {},
   "outputs": [
    {
     "name": "stdout",
     "output_type": "stream",
     "text": [
      "        2006-01-02  2006-01-03  2006-01-04  2006-01-05  2006-01-06\n",
      "000001    0.697378    0.327902    0.151692    0.059930    0.633121\n",
      "000002    0.314261    0.949350    0.357480    0.382293    0.702390\n",
      "000003    0.684868    0.452919    0.548944    0.045304    0.497855\n",
      "000004    0.741715    0.336021    0.850488    0.100983    0.982476\n",
      "000005    0.819869    0.198847    0.668904    0.163227    0.087648\n",
      "...            ...         ...         ...         ...         ...\n",
      "003996    0.635063    0.085754    0.320411    0.117137    0.634944\n",
      "003997    0.714408    0.205897    0.073714    0.705919    0.398208\n",
      "003998    0.140696    0.126257    0.498904    0.581137    0.437986\n",
      "003999    0.500233    0.772402    0.198684    0.406736    0.222578\n",
      "004000    0.991414    0.461154    0.509910    0.420753    0.304597\n",
      "\n",
      "[4000 rows x 5 columns]\n"
     ]
    }
   ],
   "source": [
    "import DataPlatForm.FactorRead as fread\n",
    "factor_table = \"factor8\"\n",
    "res = fread.read_factor(factor_table, \"2006-01-01\", \"2006-01-06\", [])\n",
    "print(res)"
   ]
  },
  {
   "cell_type": "code",
   "execution_count": 13,
   "id": "05c34bce",
   "metadata": {},
   "outputs": [
    {
     "name": "stdout",
     "output_type": "stream",
     "text": [
      "[('INFORMATION_SCHEMA',), ('db',), ('default',), ('information_schema',), ('system',)]\n",
      "[]\n"
     ]
    }
   ],
   "source": [
    "client_new = Client(host=\"192.168.222.221\")\n",
    "database_name = \"db\"\n",
    "table_name = \"entries\"\n",
    "\n",
    "#show all databases\n",
    "show_databases_query = \"show databases\"\n",
    "res = client_new.execute(show_databases_query)\n",
    "print(res)\n",
    "\n",
    "#show all tables in specific databases\n",
    "use_database_query = \"use db\"\n",
    "client_new.execute(use_database_query)\n",
    "show_table_query = \"show tables in db\"\n",
    "res = client_new.execute(use_database_query)\n",
    "print(res)"
   ]
  },
  {
   "cell_type": "code",
   "execution_count": 2,
   "id": "e0c91250",
   "metadata": {},
   "outputs": [],
   "source": [
    "#insert 100w row into the cluster\n",
    "from datetime import timedelta \n",
    "from datetime import datetime\n",
    "\n",
    "#\"2005-01-01 00:00:00\", \"%Y-%m-%d %H:%M:%S\")\n",
    "def gen_insert_string(start_stamp, records_num):\n",
    "    insert_str = \"\"\n",
    "    start_timestamp = datetime.strptime(start_stamp, \"%Y-%m-%d %H:%M:%S\")\n",
    "    for i in range(records_num):\n",
    "        cur_timestamp = start_timestamp + timedelta(seconds=1 * i)\n",
    "        cur_string = \"This is just a test line\"\n",
    "        cur_value = 0.24123\n",
    "        \n",
    "        cur_insert_value = \"(\"\n",
    "        cur_insert_value += \"\\'\" + str(cur_timestamp) + \"\\'\" + \",\"\n",
    "        cur_insert_value += \"\\'\" + cur_string + \"\\'\" + \",\"\n",
    "        cur_insert_value += str(cur_value)\n",
    "        cur_insert_value += \")\"\n",
    "        \n",
    "        insert_str += cur_insert_value + \",\"\n",
    "    return insert_str[0:-1]"
   ]
  },
  {
   "cell_type": "code",
   "execution_count": 6,
   "id": "051da70f",
   "metadata": {},
   "outputs": [
    {
     "name": "stdout",
     "output_type": "stream",
     "text": [
      "insert values gen:  1.3898341655731201\n",
      "insert query cost:  65.41122484207153\n"
     ]
    }
   ],
   "source": [
    "from clickhouse_driver import Client\n",
    "import time\n",
    "\n",
    "client = Client(host=\"192.168.222.221\")\n",
    "database = \"db\"\n",
    "table = \"entries6\"\n",
    "\n",
    "start = time.time()\n",
    "insert_values = gen_insert_string(\"2005-01-01 00:00:00\", 10 * 10000)\n",
    "print(\"insert values gen: \", time.time() - start)\n",
    "\n",
    "insert_query = \"insert into db.entries6 Values \" + insert_values\n",
    "start = time.time()\n",
    "#%timeit \n",
    "client.execute(insert_query)\n",
    "print(\"insert query cost: \", time.time() - start)\n",
    "\n",
    "#50w行数据, 3 shards\n",
    "#insert values gen:  40.53550910949707\n",
    "#insert cost time:  104.56619119644165\n",
    "\n",
    "#50w行数据, 2 shards\n",
    "#insert values gen:  43.18967533111572\n",
    "#insert cost time:  91.21817660331726\n",
    "\n",
    "# 1 shards\n",
    "#insert values gen:  46.318817138671875\n",
    "#insert cost time:  125.26755285263062"
   ]
  },
  {
   "cell_type": "code",
   "execution_count": 36,
   "id": "11c15072",
   "metadata": {},
   "outputs": [
    {
     "name": "stderr",
     "output_type": "stream",
     "text": [
      "C:\\Users\\hjiang\\AppData\\Roaming\\Python\\Python38\\site-packages\\clickhouse_driver\\columns\\datetimecolumn.py:199: PytzUsageWarning: The zone attribute is specific to pytz's interface; please migrate to a new time zone provider. For more details on how to do so, see https://pytz-deprecation-shim.readthedocs.io/en/latest/migration.html\n",
      "  local_timezone = get_localzone().zone\n"
     ]
    },
    {
     "name": "stdout",
     "output_type": "stream",
     "text": [
      "read cost time:  16.837963581085205\n"
     ]
    }
   ],
   "source": [
    "select_query = \"select * from \" + database + \".\" + table + \" limit 500000\"\n",
    "start = time.time()\n",
    "client.execute(select_query)\n",
    "print(\"read cost time: \", time.time() - start)\n",
    "#50w rows read cost\n",
    "#read cost time(3 shardings):  16.837963581085205"
   ]
  },
  {
   "cell_type": "code",
   "execution_count": null,
   "id": "78c617a4",
   "metadata": {},
   "outputs": [],
   "source": []
  }
 ],
 "metadata": {
  "kernelspec": {
   "display_name": "Python 3",
   "language": "python",
   "name": "python3"
  },
  "language_info": {
   "codemirror_mode": {
    "name": "ipython",
    "version": 3
   },
   "file_extension": ".py",
   "mimetype": "text/x-python",
   "name": "python",
   "nbconvert_exporter": "python",
   "pygments_lexer": "ipython3",
   "version": "3.8.8"
  }
 },
 "nbformat": 4,
 "nbformat_minor": 5
}
